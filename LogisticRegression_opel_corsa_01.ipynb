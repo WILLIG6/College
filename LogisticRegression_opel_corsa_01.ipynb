{
 "cells": [
  {
   "cell_type": "code",
   "execution_count": 5,
   "id": "ef38caa6-f53f-423b-8e5f-7a5f984f1c67",
   "metadata": {},
   "outputs": [
    {
     "name": "stdout",
     "output_type": "stream",
     "text": [
      "Accuracy: 0.8359375\n",
      "Classification Report:\n",
      "               precision    recall  f1-score   support\n",
      "\n",
      "           0       0.42      0.06      0.10       226\n",
      "           1       0.85      0.98      0.91      1182\n",
      "\n",
      "    accuracy                           0.84      1408\n",
      "   macro avg       0.63      0.52      0.51      1408\n",
      "weighted avg       0.78      0.84      0.78      1408\n",
      "\n"
     ]
    }
   ],
   "source": [
    "# Import necessary libraries\n",
    "import pandas as pd\n",
    "from sklearn.model_selection import train_test_split\n",
    "from sklearn.linear_model import LogisticRegression\n",
    "from sklearn.metrics import accuracy_score, classification_report\n",
    "from sklearn.preprocessing import StandardScaler\n",
    "\n",
    "\n",
    "# Load the dataset\n",
    "data = pd.read_csv(r'C:\\Users\\William\\My Drive\\College\\MEng in Connected & Autonomous Vehicles\\Semester_3\\Machine Learning (COMP09012)\\Assignment_1\\opel_corsa_01.csv', delimiter=';')\n",
    "\n",
    "# Data cleaning and preparation\n",
    "# Encode categorical labels\n",
    "data['roadSurface'] = data['roadSurface'].astype('category').cat.codes\n",
    "data['traffic'] = data['traffic'].astype('category').cat.codes\n",
    "data['drivingStyle'] = data['drivingStyle'].astype('category').cat.codes\n",
    "\n",
    "# Feature scalings\n",
    "scaler = StandardScaler()\n",
    "features = data.loc[:, data.columns.difference(['drivingStyle', 'Unnamed: 0'])]  # Exclude target and index column\n",
    "features = scaler.fit_transform(features)\n",
    "target = data['drivingStyle']  # Target variable is 'drivingStyle'\n",
    "\n",
    "# Split the dataset into training and testing sets\n",
    "X_train, X_test, y_train, y_test = train_test_split(features, target, test_size=0.2, random_state=42)\n",
    "\n",
    "# Initialise and train the Logistic Regression model\n",
    "model = LogisticRegression(max_iter=200)  # Set max_iter to ensure convergence\n",
    "model.fit(X_train, y_train)\n",
    "\n",
    "# Make predictions on the test set\n",
    "y_pred = model.predict(X_test)\n",
    "\n",
    "# Evaluate the model\n",
    "accuracy = accuracy_score(y_test, y_pred)\n",
    "report = classification_report(y_test, y_pred)\n",
    "\n",
    "# Output results\n",
    "print(\"Accuracy:\", accuracy)\n",
    "print(\"Classification Report:\\n\", report)\n",
    "\n",
    "\n"
   ]
  },
  {
   "cell_type": "code",
   "execution_count": null,
   "id": "3efac46b-be66-4dc4-8236-2cdffaaa1992",
   "metadata": {},
   "outputs": [],
   "source": []
  }
 ],
 "metadata": {
  "kernelspec": {
   "display_name": "Python 3 (ipykernel)",
   "language": "python",
   "name": "python3"
  },
  "language_info": {
   "codemirror_mode": {
    "name": "ipython",
    "version": 3
   },
   "file_extension": ".py",
   "mimetype": "text/x-python",
   "name": "python",
   "nbconvert_exporter": "python",
   "pygments_lexer": "ipython3",
   "version": "3.9.20"
  }
 },
 "nbformat": 4,
 "nbformat_minor": 5
}
