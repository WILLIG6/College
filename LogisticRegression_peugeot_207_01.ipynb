{
 "cells": [
  {
   "cell_type": "code",
   "execution_count": 3,
   "id": "1499eee4-a385-4bb6-8a81-f1e566d18df1",
   "metadata": {},
   "outputs": [
    {
     "name": "stdout",
     "output_type": "stream",
     "text": [
      "Accuracy after addressing imbalance: 0.7518626498218335\n",
      "Classification Report after addressing imbalance:\n",
      "               precision    recall  f1-score   support\n",
      "\n",
      "           0       0.74      0.77      0.75      1532\n",
      "           1       0.76      0.74      0.75      1555\n",
      "\n",
      "    accuracy                           0.75      3087\n",
      "   macro avg       0.75      0.75      0.75      3087\n",
      "weighted avg       0.75      0.75      0.75      3087\n",
      "\n"
     ]
    }
   ],
   "source": [
    "# Import necessary libraries\n",
    "import pandas as pd\n",
    "from sklearn.model_selection import train_test_split\n",
    "from sklearn.linear_model import LogisticRegression\n",
    "from sklearn.metrics import accuracy_score, classification_report\n",
    "from sklearn.preprocessing import StandardScaler, LabelEncoder\n",
    "from sklearn.impute import SimpleImputer\n",
    "from imblearn.over_sampling import SMOTE\n",
    "\n",
    "# Load the dataset\n",
    "file_path = 'C:\\\\Users\\\\William\\\\My Drive\\\\College\\\\MEng in Connected & Autonomous Vehicles\\\\Semester_3\\\\Machine Learning (COMP09012)\\\\Assignment_1\\\\peugeot_207_01.csv'  # Update with your file path if needed\n",
    "raw_dataset = pd.read_csv(file_path, delimiter=';')\n",
    "\n",
    "# Data cleaning\n",
    "# Impute missing values for numeric columns using mean\n",
    "imputer = SimpleImputer(strategy=\"mean\")\n",
    "numeric_cols = raw_dataset.select_dtypes(include=[\"float64\", \"int64\"]).columns\n",
    "raw_dataset[numeric_cols] = imputer.fit_transform(raw_dataset[numeric_cols])\n",
    "\n",
    "# Encode categorical variables\n",
    "encoder = LabelEncoder()\n",
    "for col in ['roadSurface', 'traffic', 'drivingStyle']:\n",
    "    raw_dataset[col] = encoder.fit_transform(raw_dataset[col])\n",
    "\n",
    "# Feature selection\n",
    "features = raw_dataset.loc[:, raw_dataset.columns.difference(['drivingStyle', 'Unnamed: 0'])]  # Exclude target and identifier\n",
    "target = raw_dataset['drivingStyle']  # Target variable\n",
    "\n",
    "# Scale the features\n",
    "scaler = StandardScaler()\n",
    "features_scaled = scaler.fit_transform(features)\n",
    "\n",
    "# Address class imbalance using SMOTE\n",
    "smote = SMOTE(random_state=42)\n",
    "X_resampled, y_resampled = smote.fit_resample(features_scaled, target)\n",
    "\n",
    "# Split the resampled dataset into training and testing sets\n",
    "X_train_resampled, X_test_resampled, y_train_resampled, y_test_resampled = train_test_split(\n",
    "    X_resampled, y_resampled, test_size=0.2, random_state=42\n",
    ")\n",
    "\n",
    "# Train Logistic Regression with class weighting\n",
    "model_weighted = LogisticRegression(max_iter=200, class_weight='balanced')\n",
    "model_weighted.fit(X_train_resampled, y_train_resampled)\n",
    "\n",
    "# Make predictions on the test set\n",
    "y_pred_resampled = model_weighted.predict(X_test_resampled)\n",
    "\n",
    "# Evaluate the model\n",
    "accuracy_resampled = accuracy_score(y_test_resampled, y_pred_resampled)\n",
    "report_resampled = classification_report(y_test_resampled, y_pred_resampled)\n",
    "\n",
    "# Output results\n",
    "print(\"Accuracy after addressing imbalance:\", accuracy_resampled)\n",
    "print(\"Classification Report after addressing imbalance:\\n\", report_resampled)\n"
   ]
  },
  {
   "cell_type": "code",
   "execution_count": null,
   "id": "7fe98336-1a49-41f3-8453-f6ad9f96b9d4",
   "metadata": {},
   "outputs": [],
   "source": []
  }
 ],
 "metadata": {
  "kernelspec": {
   "display_name": "Python 3 (ipykernel)",
   "language": "python",
   "name": "python3"
  },
  "language_info": {
   "codemirror_mode": {
    "name": "ipython",
    "version": 3
   },
   "file_extension": ".py",
   "mimetype": "text/x-python",
   "name": "python",
   "nbconvert_exporter": "python",
   "pygments_lexer": "ipython3",
   "version": "3.9.20"
  }
 },
 "nbformat": 4,
 "nbformat_minor": 5
}
