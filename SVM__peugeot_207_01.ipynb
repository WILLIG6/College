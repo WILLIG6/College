{
 "cells": [
  {
   "cell_type": "code",
   "execution_count": 1,
   "id": "f99e80ac-ccba-4bf0-8a34-2957f4598ca6",
   "metadata": {},
   "outputs": [
    {
     "name": "stdout",
     "output_type": "stream",
     "text": [
      "Accuracy: 0.9603658536585366\n",
      "Classification Report:\n",
      "              precision    recall  f1-score   support\n",
      "\n",
      "           0       0.70      0.76      0.73       115\n",
      "           1       0.98      0.98      0.98      1525\n",
      "\n",
      "    accuracy                           0.96      1640\n",
      "   macro avg       0.84      0.87      0.85      1640\n",
      "weighted avg       0.96      0.96      0.96      1640\n",
      "\n"
     ]
    }
   ],
   "source": [
    "# Import necessary libraries\n",
    "import pandas as pd\n",
    "from sklearn.model_selection import train_test_split, GridSearchCV\n",
    "from sklearn.svm import SVC\n",
    "from sklearn.metrics import accuracy_score, classification_report\n",
    "from sklearn.preprocessing import StandardScaler, LabelEncoder\n",
    "from sklearn.impute import SimpleImputer\n",
    "\n",
    "# Load the dataset\n",
    "file_path = 'C:\\\\Users\\\\William\\\\My Drive\\\\College\\\\MEng in Connected & Autonomous Vehicles\\\\Semester_3\\\\Machine Learning (COMP09012)\\\\Assignment_1\\\\peugeot_207_01.csv'\n",
    "raw_dataset = pd.read_csv(file_path, delimiter=';')\n",
    "\n",
    "# Data cleaning\n",
    "imputer = SimpleImputer(strategy=\"mean\")\n",
    "numeric_cols = raw_dataset.select_dtypes(include=[\"float64\", \"int64\"]).columns\n",
    "raw_dataset[numeric_cols] = imputer.fit_transform(raw_dataset[numeric_cols])\n",
    "\n",
    "# Encode categorical variables\n",
    "encoder = LabelEncoder()\n",
    "categorical_cols = ['roadSurface', 'traffic', 'drivingStyle']\n",
    "for col in categorical_cols:\n",
    "    raw_dataset[col] = encoder.fit_transform(raw_dataset[col])\n",
    "\n",
    "# Feature selection\n",
    "features = raw_dataset.loc[:, raw_dataset.columns.difference(['drivingStyle', 'Unnamed: 0'])]  # Exclude target and identifier\n",
    "target = raw_dataset['drivingStyle']  # Target variable\n",
    "\n",
    "# Scale the features\n",
    "scaler = StandardScaler()\n",
    "features_scaled = scaler.fit_transform(features)\n",
    "\n",
    "# Split the dataset into training and testing sets\n",
    "X_train, X_test, y_train, y_test = train_test_split(features_scaled, target, test_size=0.2, random_state=42)\n",
    "\n",
    "# Hyperparameter tuning with GridSearchCV\n",
    "param_grid = {\n",
    "    'C': [0.1, 1, 10, 100],\n",
    "    'gamma': [1, 0.1, 0.01, 0.001],\n",
    "    'kernel': ['rbf'],\n",
    "    'class_weight': ['balanced']\n",
    "}\n",
    "\n",
    "# Suppress verbose output from GridSearchCV\n",
    "grid_search = GridSearchCV(SVC(), param_grid, scoring='f1_macro', cv=5, verbose=0, n_jobs=-1)\n",
    "grid_search.fit(X_train, y_train)\n",
    "\n",
    "# Best parameters from GridSearchCV\n",
    "best_params = grid_search.best_params_\n",
    "\n",
    "# Train the SVM model with the best parameters\n",
    "best_svm = grid_search.best_estimator_\n",
    "best_svm.fit(X_train, y_train)\n",
    "\n",
    "# Make predictions on the test set\n",
    "y_pred = best_svm.predict(X_test)\n",
    "\n",
    "# Evaluate the model\n",
    "accuracy = accuracy_score(y_test, y_pred)\n",
    "report = classification_report(y_test, y_pred)\n",
    "\n",
    "# Print results in the desired format\n",
    "print(f\"Accuracy: {accuracy}\")\n",
    "print(\"Classification Report:\")\n",
    "print(report)\n"
   ]
  },
  {
   "cell_type": "code",
   "execution_count": null,
   "id": "0cb448f7-5b9a-48df-a46d-e7046a6fcf9b",
   "metadata": {},
   "outputs": [],
   "source": []
  },
  {
   "cell_type": "code",
   "execution_count": null,
   "id": "a30d969d-2ae6-4553-8580-4ea7d87b5b93",
   "metadata": {},
   "outputs": [],
   "source": []
  }
 ],
 "metadata": {
  "kernelspec": {
   "display_name": "Python 3 (ipykernel)",
   "language": "python",
   "name": "python3"
  },
  "language_info": {
   "codemirror_mode": {
    "name": "ipython",
    "version": 3
   },
   "file_extension": ".py",
   "mimetype": "text/x-python",
   "name": "python",
   "nbconvert_exporter": "python",
   "pygments_lexer": "ipython3",
   "version": "3.9.20"
  }
 },
 "nbformat": 4,
 "nbformat_minor": 5
}
