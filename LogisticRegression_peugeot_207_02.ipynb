{
 "cells": [
  {
   "cell_type": "code",
   "execution_count": 1,
   "id": "c03a430e-e8f5-4c7d-9655-f3a4a04792fe",
   "metadata": {},
   "outputs": [
    {
     "name": "stdout",
     "output_type": "stream",
     "text": [
      "Accuracy: 0.6831460674157304\n",
      "Classification Report:\n",
      "               precision    recall  f1-score   support\n",
      "\n",
      "           0       0.07      0.72      0.13        29\n",
      "           1       0.99      0.68      0.81       861\n",
      "\n",
      "    accuracy                           0.68       890\n",
      "   macro avg       0.53      0.70      0.47       890\n",
      "weighted avg       0.96      0.68      0.78       890\n",
      "\n"
     ]
    }
   ],
   "source": [
    "# Import necessary libraries\n",
    "import pandas as pd\n",
    "from sklearn.model_selection import train_test_split\n",
    "from sklearn.linear_model import LogisticRegression\n",
    "from sklearn.metrics import accuracy_score, classification_report\n",
    "from sklearn.preprocessing import StandardScaler\n",
    "from imblearn.over_sampling import SMOTE  # SMOTE for oversampling\n",
    "\n",
    "# Load the dataset\n",
    "file_path = 'C:\\\\Users\\\\William\\\\My Drive\\\\College\\\\MEng in Connected & Autonomous Vehicles\\\\Semester_3\\\\Machine Learning (COMP09012)\\\\Assignment_1\\\\peugeot_207_02.csv'  # Replace with your dataset path\n",
    "data = pd.read_csv(file_path, delimiter=';')\n",
    "\n",
    "# Handle missing values\n",
    "numerical_columns = data.select_dtypes(include=['float64', 'int64']).columns\n",
    "data[numerical_columns] = data[numerical_columns].fillna(data[numerical_columns].mean())\n",
    "\n",
    "# Encode categorical labels\n",
    "data['roadSurface'] = data['roadSurface'].astype('category').cat.codes\n",
    "data['traffic'] = data['traffic'].astype('category').cat.codes\n",
    "data['drivingStyle'] = data['drivingStyle'].astype('category').cat.codes\n",
    "\n",
    "# Feature scaling\n",
    "scaler = StandardScaler()\n",
    "features = data.loc[:, data.columns.difference(['drivingStyle', 'Unnamed: 0'])]  # Exclude target and index column\n",
    "features_scaled = scaler.fit_transform(features)\n",
    "target = data['drivingStyle']  # Target variable is 'drivingStyle'\n",
    "\n",
    "# Split the dataset into training and testing sets\n",
    "X_train, X_test, y_train, y_test = train_test_split(features_scaled, target, test_size=0.2, random_state=42)\n",
    "\n",
    "# Apply SMOTE to oversample the minority class in the training data\n",
    "smote = SMOTE(random_state=42)\n",
    "X_train_smote, y_train_smote = smote.fit_resample(X_train, y_train)\n",
    "\n",
    "# Initialise and train the Logistic Regression model with balanced class weights\n",
    "model = LogisticRegression(max_iter=200, class_weight='balanced')  # Adjusted class weights\n",
    "model.fit(X_train_smote, y_train_smote)\n",
    "\n",
    "# Make predictions on the test set\n",
    "y_pred = model.predict(X_test)\n",
    "\n",
    "# Evaluate the model\n",
    "accuracy = accuracy_score(y_test, y_pred)\n",
    "report = classification_report(y_test, y_pred, zero_division=0)  # Handle undefined metrics\n",
    "\n",
    "# Output results\n",
    "print(\"Accuracy:\", accuracy)\n",
    "print(\"Classification Report:\\n\", report)\n"
   ]
  },
  {
   "cell_type": "code",
   "execution_count": null,
   "id": "d12b4f88-c3c0-4539-b23f-ce789fdc10df",
   "metadata": {},
   "outputs": [],
   "source": []
  }
 ],
 "metadata": {
  "kernelspec": {
   "display_name": "Python 3 (ipykernel)",
   "language": "python",
   "name": "python3"
  },
  "language_info": {
   "codemirror_mode": {
    "name": "ipython",
    "version": 3
   },
   "file_extension": ".py",
   "mimetype": "text/x-python",
   "name": "python",
   "nbconvert_exporter": "python",
   "pygments_lexer": "ipython3",
   "version": "3.9.20"
  }
 },
 "nbformat": 4,
 "nbformat_minor": 5
}
