{
 "cells": [
  {
   "cell_type": "code",
   "execution_count": 1,
   "id": "efadfa7d-76f3-4d77-895f-e71ede28c3eb",
   "metadata": {},
   "outputs": [
    {
     "name": "stdout",
     "output_type": "stream",
     "text": [
      "Initial Class Distribution in Target Variable:\n",
      " drivingStyle\n",
      "1    4259\n",
      "0     187\n",
      "Name: count, dtype: int64\n",
      "\n",
      "Class Distribution After SMOTE:\n",
      " drivingStyle\n",
      "1    4259\n",
      "0    4259\n",
      "Name: count, dtype: int64\n",
      "\n",
      "Accuracy: 0.7423708920187794\n",
      "\n",
      "Classification Report:\n",
      "               precision    recall  f1-score   support\n",
      "\n",
      "           0       0.72      0.81      0.76       861\n",
      "           1       0.77      0.68      0.72       843\n",
      "\n",
      "    accuracy                           0.74      1704\n",
      "   macro avg       0.75      0.74      0.74      1704\n",
      "weighted avg       0.75      0.74      0.74      1704\n",
      "\n"
     ]
    }
   ],
   "source": [
    "# Import necessary libraries\n",
    "import pandas as pd\n",
    "from imblearn.over_sampling import SMOTE\n",
    "from sklearn.model_selection import train_test_split\n",
    "from sklearn.svm import SVC\n",
    "from sklearn.metrics import accuracy_score, classification_report\n",
    "from sklearn.preprocessing import StandardScaler\n",
    "\n",
    "# Load the dataset\n",
    "file_path = 'C:\\\\Users\\\\William\\\\My Drive\\\\College\\\\MEng in Connected & Autonomous Vehicles\\\\Semester_3\\\\Machine Learning (COMP09012)\\\\Assignment_1\\\\peugeot_207_02.csv'  # Replace with your dataset path\n",
    "data = pd.read_csv(file_path, delimiter=';')\n",
    "\n",
    "# Data cleaning and preparation\n",
    "numerical_columns = data.select_dtypes(include=['float64', 'int64']).columns\n",
    "data[numerical_columns] = data[numerical_columns].fillna(data[numerical_columns].mean())\n",
    "\n",
    "# Encode categorical labels\n",
    "data['roadSurface'] = data['roadSurface'].astype('category').cat.codes\n",
    "data['traffic'] = data['traffic'].astype('category').cat.codes\n",
    "data['drivingStyle'] = data['drivingStyle'].astype('category').cat.codes\n",
    "\n",
    "# Feature scaling\n",
    "scaler = StandardScaler()\n",
    "features = data.loc[:, data.columns.difference(['drivingStyle', 'Unnamed: 0'])]  # Exclude target and index column\n",
    "features_scaled = scaler.fit_transform(features)\n",
    "target = data['drivingStyle']  # Target variable is 'drivingStyle'\n",
    "\n",
    "# Check initial class distribution\n",
    "print(\"Initial Class Distribution in Target Variable:\\n\", target.value_counts())\n",
    "\n",
    "# Apply SMOTE for oversampling the minority class\n",
    "smote = SMOTE(random_state=42)\n",
    "X_resampled, y_resampled = smote.fit_resample(features_scaled, target)\n",
    "\n",
    "# Check class distribution after SMOTE\n",
    "print(\"\\nClass Distribution After SMOTE:\\n\", pd.Series(y_resampled).value_counts())\n",
    "\n",
    "# Split the resampled dataset\n",
    "X_train, X_test, y_train, y_test = train_test_split(X_resampled, y_resampled, test_size=0.2, random_state=42)\n",
    "\n",
    "# Train SVM with linear kernel\n",
    "svm_model = SVC(kernel='linear', C=1.0, random_state=42)\n",
    "svm_model.fit(X_train, y_train)\n",
    "\n",
    "# Make predictions on the test set\n",
    "y_pred = svm_model.predict(X_test)\n",
    "\n",
    "# Evaluate the model\n",
    "accuracy = accuracy_score(y_test, y_pred)\n",
    "report = classification_report(y_test, y_pred)\n",
    "\n",
    "# Output results\n",
    "print(\"\\nAccuracy:\", accuracy)\n",
    "print(\"\\nClassification Report:\\n\", report)\n"
   ]
  },
  {
   "cell_type": "code",
   "execution_count": null,
   "id": "7f55ae30-29be-4c20-ac40-b7140e062877",
   "metadata": {},
   "outputs": [],
   "source": []
  }
 ],
 "metadata": {
  "kernelspec": {
   "display_name": "Python 3 (ipykernel)",
   "language": "python",
   "name": "python3"
  },
  "language_info": {
   "codemirror_mode": {
    "name": "ipython",
    "version": 3
   },
   "file_extension": ".py",
   "mimetype": "text/x-python",
   "name": "python",
   "nbconvert_exporter": "python",
   "pygments_lexer": "ipython3",
   "version": "3.9.20"
  }
 },
 "nbformat": 4,
 "nbformat_minor": 5
}
