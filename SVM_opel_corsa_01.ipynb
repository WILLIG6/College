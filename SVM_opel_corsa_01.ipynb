{
 "cells": [
  {
   "cell_type": "code",
   "execution_count": 3,
   "id": "2c2e3e2f-c0e3-4e5e-bad3-f36900d38ae8",
   "metadata": {},
   "outputs": [
    {
     "name": "stdout",
     "output_type": "stream",
     "text": [
      "SVM Accuracy with Balanced Class Weights: 0.6029829545454546\n",
      "SVM Classification Report with Balanced Class Weights:\n",
      "               precision    recall  f1-score   support\n",
      "\n",
      "           0       0.27      0.84      0.40       226\n",
      "           1       0.95      0.56      0.70      1182\n",
      "\n",
      "    accuracy                           0.60      1408\n",
      "   macro avg       0.61      0.70      0.55      1408\n",
      "weighted avg       0.84      0.60      0.65      1408\n",
      "\n"
     ]
    }
   ],
   "source": [
    "# Import necessary libraries\n",
    "import pandas as pd\n",
    "from sklearn.model_selection import train_test_split\n",
    "from sklearn.svm import SVC\n",
    "from sklearn.metrics import accuracy_score, classification_report\n",
    "from sklearn.preprocessing import StandardScaler\n",
    "\n",
    "# Load the dataset\n",
    "data = pd.read_csv(r'C:\\Users\\William\\My Drive\\College\\MEng in Connected & Autonomous Vehicles\\Semester_3\\Machine Learning (COMP09012)\\Assignment_1\\opel_corsa_01.csv', delimiter=';')\n",
    "\n",
    "# Data cleaning and preparation\n",
    "data['roadSurface'] = data['roadSurface'].astype('category').cat.codes\n",
    "data['traffic'] = data['traffic'].astype('category').cat.codes\n",
    "data['drivingStyle'] = data['drivingStyle'].astype('category').cat.codes\n",
    "\n",
    "# Feature scaling\n",
    "scaler = StandardScaler()\n",
    "features = data.loc[:, data.columns.difference(['drivingStyle', 'Unnamed: 0'])]  # Exclude target and index column\n",
    "features = scaler.fit_transform(features)\n",
    "target = data['drivingStyle']  # Target variable is 'drivingStyle'\n",
    "\n",
    "# Split the dataset into training and testing sets\n",
    "X_train, X_test, y_train, y_test = train_test_split(features, target, test_size=0.2, random_state=42)\n",
    "\n",
    "# Initialise and train the SVM model with class weights\n",
    "svm_model = SVC(kernel='linear', C=1.0, class_weight='balanced', random_state=42)\n",
    "svm_model.fit(X_train, y_train)\n",
    "\n",
    "# Make predictions on the test set\n",
    "y_pred = svm_model.predict(X_test)\n",
    "\n",
    "# Evaluate the model\n",
    "accuracy = accuracy_score(y_test, y_pred)\n",
    "report = classification_report(y_test, y_pred)\n",
    "\n",
    "# Output results\n",
    "print(\"SVM Accuracy with Balanced Class Weights:\", accuracy)\n",
    "print(\"SVM Classification Report with Balanced Class Weights:\\n\", report)\n"
   ]
  },
  {
   "cell_type": "code",
   "execution_count": null,
   "id": "31b57b4e-55e2-48a0-bafd-32b2f0813910",
   "metadata": {},
   "outputs": [],
   "source": []
  }
 ],
 "metadata": {
  "kernelspec": {
   "display_name": "Python 3 (ipykernel)",
   "language": "python",
   "name": "python3"
  },
  "language_info": {
   "codemirror_mode": {
    "name": "ipython",
    "version": 3
   },
   "file_extension": ".py",
   "mimetype": "text/x-python",
   "name": "python",
   "nbconvert_exporter": "python",
   "pygments_lexer": "ipython3",
   "version": "3.9.20"
  }
 },
 "nbformat": 4,
 "nbformat_minor": 5
}
